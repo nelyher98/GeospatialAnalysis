{
 "cells": [
  {
   "cell_type": "markdown",
   "metadata": {},
   "source": [
    "# Connection to MYSQL through Python"
   ]
  },
  {
   "cell_type": "markdown",
   "metadata": {},
   "source": [
    "So the libraries work correctly it is important to get Python 3.7 or below, also the \"sqlalchemy\" library is not found in Anaconda or Colab therefore is recommended to run this code through cmd.\n",
    "\n",
    "Some other important tools:\n",
    "\n",
    "* Xampp\n",
    "* MySQL\n",
    "* Qgis\n",
    "\n",
    "_The used data for this project can be found in the following link:_ [https://drive.google.com/drive/folders/1Tn8qlEOmWxUU51idEdgRfWRM5k35JtA_?usp=sharing]"
   ]
  },
  {
   "cell_type": "code",
   "execution_count": 66,
   "metadata": {},
   "outputs": [],
   "source": [
    "#Libraries for the MySQL connection\n",
    "import csv\n",
    "import pymysql\n",
    "import pandas as pd\n",
    "import unicodedata\n",
    "from sqlalchemy import create_engine, types\n",
    "import mysql.connector \n",
    "\n",
    "#libraries to use the Mapper algorithm\n",
    "import matplotlib.pyplot as plt\n",
    "import seaborn as sns\n",
    "import numpy as np\n",
    "import random\n",
    "import sklearn\n",
    "import datetime as dt \n",
    "\n",
    "#Valente\n",
    "import io\n",
    "import sys\n",
    "import base64\n",
    "import cv2 as cv\n",
    "import os\n",
    "import easygui as gui\n",
    "\n",
    "from io import StringIO \n",
    "from sklearn.preprocessing import LabelEncoder \n",
    "#Encode target labels with value between 0 and n_classes-1.\n",
    "from sklearn.preprocessing import StandardScaler \n",
    "#Standardize features by removing the mean and scaling to unit variance.\n",
    "\n",
    "from sklearn.decomposition import PCA \n",
    "#Principal component analysis (PCA).\n",
    "#Linear dimensionality reduction using Singular Value Decomposition of the data to project it to a lower dimensional space. \n",
    "#The input data is centered but not scaled for each feature before applying the SVD.\n",
    "\n",
    "from sklearn.manifold import TSNE\n",
    "#t-distributed Stochastic Neighbor Embedding. It's a tool to visualize high-dimensional data.\n",
    "\n",
    "from sklearn import datasets\n",
    "import umap.umap_ as umap\n",
    "#Uniform Manifold Approximation and Projection (UMAP) is a dimension reduction technique that can be used for visualisation\n",
    "#similarly to t-SNE, but also for general non-linear dimension reduction. \n",
    "\n",
    "import kmapper as km\n",
    "from kmapper import jupyter \n",
    "#Creates custom CSS full-size Jupyter screen.\n",
    "\n",
    "from sklearn import preprocessing\n",
    "#Provides several common utility functions and transformer classes to change raw feature vectors into a representation\n",
    "#that is more suitable for the downstream estimators.\n",
    "\n",
    "#Project \n",
    "from sklearn import ensemble\n",
    "from sklearn import manifold\n",
    "\n",
    "import warnings\n",
    "warnings.filterwarnings('ignore')"
   ]
  },
  {
   "cell_type": "code",
   "execution_count": 67,
   "metadata": {},
   "outputs": [],
   "source": [
    "#Testing connection\n",
    "mydb = mysql.connector.connect( \n",
    "  host = \"localhost\", \n",
    "  user = \"root\", \n",
    "  password = \"\", \n",
    "  database = \"prueba\"\n",
    ")  \n",
    "  \n",
    "mycursor = mydb.cursor() "
   ]
  },
  {
   "cell_type": "markdown",
   "metadata": {},
   "source": [
    "INSERTING DATA TO THE DATABASE"
   ]
  },
  {
   "cell_type": "markdown",
   "metadata": {},
   "source": [
    "* *ITER*"
   ]
  },
  {
   "cell_type": "code",
   "execution_count": 63,
   "metadata": {},
   "outputs": [],
   "source": [
    "engine = create_engine('mysql://root:@localhost/prueba')\n",
    "df = pd.read_csv(\"Entidades2.csv\",sep=',',quotechar='\\'',encoding='utf-8',error_bad_lines=False) \n",
    "df.to_sql('Hidalgo_Municipios',con=engine,index=False,if_exists='append')"
   ]
  },
  {
   "cell_type": "markdown",
   "metadata": {},
   "source": [
    "* *DRENAJE*"
   ]
  },
  {
   "cell_type": "code",
   "execution_count": 9,
   "metadata": {},
   "outputs": [],
   "source": [
    "engine = create_engine('mysql://root:@localhost/prueba')\n",
    "df = pd.read_csv(\"hidalgo_drenaje.csv\",sep=',',quotechar='\\'',encoding='utf8') \n",
    "df.to_sql('drenaje',con=engine,index=False,if_exists='append')"
   ]
  },
  {
   "cell_type": "markdown",
   "metadata": {},
   "source": [
    "* *UBICACIÓN*"
   ]
  },
  {
   "cell_type": "code",
   "execution_count": 11,
   "metadata": {},
   "outputs": [],
   "source": [
    "engine = create_engine('mysql://root:@localhost/prueba')\n",
    "df = pd.read_csv(\"ubicacion.csv\",sep=',',quotechar='\\'',encoding='utf8') \n",
    "df.to_sql('ubicación',con=engine,index=False,if_exists='append')"
   ]
  },
  {
   "cell_type": "markdown",
   "metadata": {},
   "source": [
    "* *COVID*"
   ]
  },
  {
   "cell_type": "code",
   "execution_count": 41,
   "metadata": {},
   "outputs": [],
   "source": [
    "engine = create_engine('mysql://root:@localhost/prueba')\n",
    "df = pd.read_csv(\"Entidadres.csv\",sep=',',quotechar='\\'',encoding='utf8')\n",
    "df.to_sql('covid07122020',con=engine,index=False,if_exists='append')"
   ]
  },
  {
   "cell_type": "markdown",
   "metadata": {},
   "source": [
    "* *DRENAJE SEGUNDA*"
   ]
  },
  {
   "cell_type": "code",
   "execution_count": 7,
   "metadata": {},
   "outputs": [],
   "source": [
    "engine = create_engine('mysql://root:@localhost/prueba')\n",
    "df = pd.read_csv(\"DrenajeN.csv\",sep=',',quotechar='\\'',encoding='utf8') \n",
    "df.to_sql('DrenajeN',con=engine,index=False,if_exists='append')"
   ]
  },
  {
   "cell_type": "markdown",
   "metadata": {},
   "source": [
    "* SELECTING DATA"
   ]
  },
  {
   "cell_type": "code",
   "execution_count": 70,
   "metadata": {},
   "outputs": [
    {
     "data": {
      "text/html": [
       "<div>\n",
       "<style scoped>\n",
       "    .dataframe tbody tr th:only-of-type {\n",
       "        vertical-align: middle;\n",
       "    }\n",
       "\n",
       "    .dataframe tbody tr th {\n",
       "        vertical-align: top;\n",
       "    }\n",
       "\n",
       "    .dataframe thead th {\n",
       "        text-align: right;\n",
       "    }\n",
       "</style>\n",
       "<table border=\"1\" class=\"dataframe\">\n",
       "  <thead>\n",
       "    <tr style=\"text-align: right;\">\n",
       "      <th></th>\n",
       "      <th>Lon_Decimal</th>\n",
       "      <th>Lat_Decimal</th>\n",
       "      <th>Altitud</th>\n",
       "    </tr>\n",
       "  </thead>\n",
       "  <tbody>\n",
       "    <tr>\n",
       "      <th>0</th>\n",
       "      <td>-98.438372</td>\n",
       "      <td>20.145903</td>\n",
       "      <td>2130</td>\n",
       "    </tr>\n",
       "    <tr>\n",
       "      <th>1</th>\n",
       "      <td>-98.203244</td>\n",
       "      <td>20.158693</td>\n",
       "      <td>2255</td>\n",
       "    </tr>\n",
       "    <tr>\n",
       "      <th>2</th>\n",
       "      <td>-98.942901</td>\n",
       "      <td>20.269086</td>\n",
       "      <td>2003</td>\n",
       "    </tr>\n",
       "    <tr>\n",
       "      <th>3</th>\n",
       "      <td>-98.356386</td>\n",
       "      <td>20.349504</td>\n",
       "      <td>2183</td>\n",
       "    </tr>\n",
       "    <tr>\n",
       "      <th>4</th>\n",
       "      <td>-99.122133</td>\n",
       "      <td>20.092525</td>\n",
       "      <td>2143</td>\n",
       "    </tr>\n",
       "  </tbody>\n",
       "</table>\n",
       "</div>"
      ],
      "text/plain": [
       "   Lon_Decimal  Lat_Decimal  Altitud\n",
       "0   -98.438372    20.145903     2130\n",
       "1   -98.203244    20.158693     2255\n",
       "2   -98.942901    20.269086     2003\n",
       "3   -98.356386    20.349504     2183\n",
       "4   -99.122133    20.092525     2143"
      ]
     },
     "execution_count": 70,
     "metadata": {},
     "output_type": "execute_result"
    }
   ],
   "source": [
    "#Code to check whether the query is executed successfully or not\n",
    "''' mycursor.execute(\"SELECT latitud,longitud FROM covid\")\n",
    "myresult = mycursor.fetchall()\n",
    "for x in myresult:\n",
    "  print(x)  '''\n",
    "\n",
    "# Read the SQL query results using pandas\n",
    "queryframe = pd.read_sql(\"\"\"\n",
    "            SELECT Lon_Decimal, Lat_Decimal, Altitud FROM Hidalgo_municipios LIMIT 10;\n",
    "            \"\"\", con = mydb)\n",
    "\n",
    "# Return the first five rows\n",
    "queryframe.head()\n",
    "\n"
   ]
  },
  {
   "cell_type": "code",
   "execution_count": 19,
   "metadata": {},
   "outputs": [
    {
     "data": {
      "text/plain": [
       "Index(['ID_REGISTRO', 'Nom_Ent', 'Nom_Mun', 'Nom_Loc', 'Lat_Decimal',\n",
       "       'Lon_Decimal', 'Altitud', 'FECHA_ACTUALIZACION', 'FECHA_INGRESO',\n",
       "       'FECHA_SINTOMAS', 'INTUBADO', 'UCI'],\n",
       "      dtype='object')"
      ]
     },
     "execution_count": 19,
     "metadata": {},
     "output_type": "execute_result"
    }
   ],
   "source": [
    "queryframe.columns"
   ]
  },
  {
   "cell_type": "code",
   "execution_count": 40,
   "metadata": {},
   "outputs": [
    {
     "data": {
      "text/html": [
       "<div>\n",
       "<style scoped>\n",
       "    .dataframe tbody tr th:only-of-type {\n",
       "        vertical-align: middle;\n",
       "    }\n",
       "\n",
       "    .dataframe tbody tr th {\n",
       "        vertical-align: top;\n",
       "    }\n",
       "\n",
       "    .dataframe thead th {\n",
       "        text-align: right;\n",
       "    }\n",
       "</style>\n",
       "<table border=\"1\" class=\"dataframe\">\n",
       "  <thead>\n",
       "    <tr style=\"text-align: right;\">\n",
       "      <th></th>\n",
       "      <th>Lat_Decimal</th>\n",
       "      <th>Lon_Decimal</th>\n",
       "      <th>Altitud</th>\n",
       "      <th>INTUBADO</th>\n",
       "      <th>UCI</th>\n",
       "    </tr>\n",
       "  </thead>\n",
       "  <tbody>\n",
       "    <tr>\n",
       "      <th>count</th>\n",
       "      <td>10.000000</td>\n",
       "      <td>10.000000</td>\n",
       "      <td>10.000000</td>\n",
       "      <td>10.0</td>\n",
       "      <td>10.0</td>\n",
       "    </tr>\n",
       "    <tr>\n",
       "      <th>mean</th>\n",
       "      <td>20.249123</td>\n",
       "      <td>-98.563430</td>\n",
       "      <td>2106.800000</td>\n",
       "      <td>2.0</td>\n",
       "      <td>2.0</td>\n",
       "    </tr>\n",
       "    <tr>\n",
       "      <th>std</th>\n",
       "      <td>0.041186</td>\n",
       "      <td>0.047485</td>\n",
       "      <td>73.103883</td>\n",
       "      <td>0.0</td>\n",
       "      <td>0.0</td>\n",
       "    </tr>\n",
       "    <tr>\n",
       "      <th>min</th>\n",
       "      <td>20.191681</td>\n",
       "      <td>-98.609821</td>\n",
       "      <td>2026.000000</td>\n",
       "      <td>2.0</td>\n",
       "      <td>2.0</td>\n",
       "    </tr>\n",
       "    <tr>\n",
       "      <th>25%</th>\n",
       "      <td>20.214773</td>\n",
       "      <td>-98.601994</td>\n",
       "      <td>2047.500000</td>\n",
       "      <td>2.0</td>\n",
       "      <td>2.0</td>\n",
       "    </tr>\n",
       "    <tr>\n",
       "      <th>50%</th>\n",
       "      <td>20.251154</td>\n",
       "      <td>-98.582053</td>\n",
       "      <td>2092.500000</td>\n",
       "      <td>2.0</td>\n",
       "      <td>2.0</td>\n",
       "    </tr>\n",
       "    <tr>\n",
       "      <th>75%</th>\n",
       "      <td>20.272658</td>\n",
       "      <td>-98.536302</td>\n",
       "      <td>2165.750000</td>\n",
       "      <td>2.0</td>\n",
       "      <td>2.0</td>\n",
       "    </tr>\n",
       "    <tr>\n",
       "      <th>max</th>\n",
       "      <td>20.323425</td>\n",
       "      <td>-98.484039</td>\n",
       "      <td>2227.000000</td>\n",
       "      <td>2.0</td>\n",
       "      <td>2.0</td>\n",
       "    </tr>\n",
       "  </tbody>\n",
       "</table>\n",
       "</div>"
      ],
      "text/plain": [
       "       Lat_Decimal  Lon_Decimal      Altitud  INTUBADO   UCI\n",
       "count    10.000000    10.000000    10.000000      10.0  10.0\n",
       "mean     20.249123   -98.563430  2106.800000       2.0   2.0\n",
       "std       0.041186     0.047485    73.103883       0.0   0.0\n",
       "min      20.191681   -98.609821  2026.000000       2.0   2.0\n",
       "25%      20.214773   -98.601994  2047.500000       2.0   2.0\n",
       "50%      20.251154   -98.582053  2092.500000       2.0   2.0\n",
       "75%      20.272658   -98.536302  2165.750000       2.0   2.0\n",
       "max      20.323425   -98.484039  2227.000000       2.0   2.0"
      ]
     },
     "execution_count": 40,
     "metadata": {},
     "output_type": "execute_result"
    }
   ],
   "source": [
    "queryframe.describe()"
   ]
  },
  {
   "cell_type": "code",
   "execution_count": 18,
   "metadata": {},
   "outputs": [
    {
     "data": {
      "text/plain": [
       "(10, 3)"
      ]
     },
     "execution_count": 18,
     "metadata": {},
     "output_type": "execute_result"
    }
   ],
   "source": [
    "queryframe.shape"
   ]
  },
  {
   "cell_type": "markdown",
   "metadata": {},
   "source": [
    "* _CASOS TOTALES_"
   ]
  },
  {
   "cell_type": "code",
   "execution_count": 92,
   "metadata": {},
   "outputs": [
    {
     "data": {
      "text/html": [
       "<div>\n",
       "<style scoped>\n",
       "    .dataframe tbody tr th:only-of-type {\n",
       "        vertical-align: middle;\n",
       "    }\n",
       "\n",
       "    .dataframe tbody tr th {\n",
       "        vertical-align: top;\n",
       "    }\n",
       "\n",
       "    .dataframe thead th {\n",
       "        text-align: right;\n",
       "    }\n",
       "</style>\n",
       "<table border=\"1\" class=\"dataframe\">\n",
       "  <thead>\n",
       "    <tr style=\"text-align: right;\">\n",
       "      <th></th>\n",
       "      <th>Cve_Mun</th>\n",
       "      <th>Nom_mun</th>\n",
       "      <th>Nom_loc</th>\n",
       "      <th>Lat_Decimal</th>\n",
       "      <th>Lon_Decimal</th>\n",
       "      <th>Cases</th>\n",
       "    </tr>\n",
       "  </thead>\n",
       "  <tbody>\n",
       "    <tr>\n",
       "      <th>0</th>\n",
       "      <td>1</td>\n",
       "      <td>Acatlán</td>\n",
       "      <td>Acatlán</td>\n",
       "      <td>20.145903</td>\n",
       "      <td>-98.438372</td>\n",
       "      <td>59</td>\n",
       "    </tr>\n",
       "    <tr>\n",
       "      <th>1</th>\n",
       "      <td>2</td>\n",
       "      <td>Acaxochitlán</td>\n",
       "      <td>Acaxochitlán</td>\n",
       "      <td>20.158693</td>\n",
       "      <td>-98.203244</td>\n",
       "      <td>87</td>\n",
       "    </tr>\n",
       "    <tr>\n",
       "      <th>2</th>\n",
       "      <td>3</td>\n",
       "      <td>Actopan</td>\n",
       "      <td>Actopan</td>\n",
       "      <td>20.269086</td>\n",
       "      <td>-98.942901</td>\n",
       "      <td>249</td>\n",
       "    </tr>\n",
       "    <tr>\n",
       "      <th>3</th>\n",
       "      <td>4</td>\n",
       "      <td>Agua Blanca de Iturbide</td>\n",
       "      <td>Agua Blanca de Iturbide</td>\n",
       "      <td>20.349504</td>\n",
       "      <td>-98.356386</td>\n",
       "      <td>16</td>\n",
       "    </tr>\n",
       "    <tr>\n",
       "      <th>4</th>\n",
       "      <td>5</td>\n",
       "      <td>Ajacuba</td>\n",
       "      <td>Ajacuba</td>\n",
       "      <td>20.092525</td>\n",
       "      <td>-99.122133</td>\n",
       "      <td>72</td>\n",
       "    </tr>\n",
       "  </tbody>\n",
       "</table>\n",
       "</div>"
      ],
      "text/plain": [
       "   Cve_Mun                  Nom_mun                  Nom_loc  Lat_Decimal  \\\n",
       "0        1                  Acatlán                  Acatlán    20.145903   \n",
       "1        2             Acaxochitlán             Acaxochitlán    20.158693   \n",
       "2        3                  Actopan                  Actopan    20.269086   \n",
       "3        4  Agua Blanca de Iturbide  Agua Blanca de Iturbide    20.349504   \n",
       "4        5                  Ajacuba                  Ajacuba    20.092525   \n",
       "\n",
       "   Lon_Decimal  Cases  \n",
       "0   -98.438372     59  \n",
       "1   -98.203244     87  \n",
       "2   -98.942901    249  \n",
       "3   -98.356386     16  \n",
       "4   -99.122133     72  "
      ]
     },
     "execution_count": 92,
     "metadata": {},
     "output_type": "execute_result"
    }
   ],
   "source": [
    "queryframeTotales = pd.read_sql(\"\"\"\n",
    "            SELECT h.Cve_Mun, h.Nom_mun,h.Nom_loc,h.Lat_Decimal,h.Lon_Decimal, COUNT(c.MUNICIPIO_RES) AS Cases\n",
    "              FROM hidalgo_municipios h INNER JOIN covid07122020 c\n",
    "              ON h.Cve_Mun = c.MUNICIPIO_RES\n",
    "              GROUP BY h.Nom_mun;\n",
    "            \"\"\", con = mydb)\n",
    "\n",
    "# Return the first five rows\n",
    "queryframeTotales.head()\n"
   ]
  },
  {
   "cell_type": "code",
   "execution_count": null,
   "metadata": {},
   "outputs": [],
   "source": [
    "queryframeTotales.to_csv('C:/Users/almej/Desktop/Totales.csv')"
   ]
  },
  {
   "cell_type": "markdown",
   "metadata": {},
   "source": [
    "* _MUJERES_"
   ]
  },
  {
   "cell_type": "code",
   "execution_count": 87,
   "metadata": {},
   "outputs": [
    {
     "data": {
      "text/html": [
       "<div>\n",
       "<style scoped>\n",
       "    .dataframe tbody tr th:only-of-type {\n",
       "        vertical-align: middle;\n",
       "    }\n",
       "\n",
       "    .dataframe tbody tr th {\n",
       "        vertical-align: top;\n",
       "    }\n",
       "\n",
       "    .dataframe thead th {\n",
       "        text-align: right;\n",
       "    }\n",
       "</style>\n",
       "<table border=\"1\" class=\"dataframe\">\n",
       "  <thead>\n",
       "    <tr style=\"text-align: right;\">\n",
       "      <th></th>\n",
       "      <th>Cve_Mun</th>\n",
       "      <th>Nom_mun</th>\n",
       "      <th>Nom_loc</th>\n",
       "      <th>Lat_Decimal</th>\n",
       "      <th>Lon_Decimal</th>\n",
       "      <th>Cases</th>\n",
       "    </tr>\n",
       "  </thead>\n",
       "  <tbody>\n",
       "    <tr>\n",
       "      <th>0</th>\n",
       "      <td>1</td>\n",
       "      <td>Acatlán</td>\n",
       "      <td>Acatlán</td>\n",
       "      <td>20.145903</td>\n",
       "      <td>-98.438372</td>\n",
       "      <td>32</td>\n",
       "    </tr>\n",
       "    <tr>\n",
       "      <th>1</th>\n",
       "      <td>2</td>\n",
       "      <td>Acaxochitlán</td>\n",
       "      <td>Acaxochitlán</td>\n",
       "      <td>20.158693</td>\n",
       "      <td>-98.203244</td>\n",
       "      <td>42</td>\n",
       "    </tr>\n",
       "    <tr>\n",
       "      <th>2</th>\n",
       "      <td>3</td>\n",
       "      <td>Actopan</td>\n",
       "      <td>Actopan</td>\n",
       "      <td>20.269086</td>\n",
       "      <td>-98.942901</td>\n",
       "      <td>111</td>\n",
       "    </tr>\n",
       "    <tr>\n",
       "      <th>3</th>\n",
       "      <td>4</td>\n",
       "      <td>Agua Blanca de Iturbide</td>\n",
       "      <td>Agua Blanca de Iturbide</td>\n",
       "      <td>20.349504</td>\n",
       "      <td>-98.356386</td>\n",
       "      <td>7</td>\n",
       "    </tr>\n",
       "    <tr>\n",
       "      <th>4</th>\n",
       "      <td>5</td>\n",
       "      <td>Ajacuba</td>\n",
       "      <td>Ajacuba</td>\n",
       "      <td>20.092525</td>\n",
       "      <td>-99.122133</td>\n",
       "      <td>30</td>\n",
       "    </tr>\n",
       "  </tbody>\n",
       "</table>\n",
       "</div>"
      ],
      "text/plain": [
       "   Cve_Mun                  Nom_mun                  Nom_loc  Lat_Decimal  \\\n",
       "0        1                  Acatlán                  Acatlán    20.145903   \n",
       "1        2             Acaxochitlán             Acaxochitlán    20.158693   \n",
       "2        3                  Actopan                  Actopan    20.269086   \n",
       "3        4  Agua Blanca de Iturbide  Agua Blanca de Iturbide    20.349504   \n",
       "4        5                  Ajacuba                  Ajacuba    20.092525   \n",
       "\n",
       "   Lon_Decimal  Cases  \n",
       "0   -98.438372     32  \n",
       "1   -98.203244     42  \n",
       "2   -98.942901    111  \n",
       "3   -98.356386      7  \n",
       "4   -99.122133     30  "
      ]
     },
     "execution_count": 87,
     "metadata": {},
     "output_type": "execute_result"
    }
   ],
   "source": [
    "queryframeMujeres = pd.read_sql(\"\"\"\n",
    "            SELECT h.Cve_Mun, h.Nom_mun,h.Nom_loc,h.Lat_Decimal,h.Lon_Decimal, COUNT(c.MUNICIPIO_RES) AS Cases\n",
    "              FROM hidalgo_municipios h INNER JOIN covid07122020 c\n",
    "              ON h.Cve_Mun = c.MUNICIPIO_RES WHERE c.SEXO ='1'\n",
    "              GROUP BY h.Nom_mun;\n",
    "            \"\"\", con = mydb)\n",
    "\n",
    "# Return the first five rows\n",
    "queryframeMujeres.head()\n"
   ]
  },
  {
   "cell_type": "code",
   "execution_count": null,
   "metadata": {},
   "outputs": [],
   "source": [
    "queryframeMujeres.to_csv('C:/Users/almej/Desktop/Mujeres.csv')"
   ]
  },
  {
   "cell_type": "markdown",
   "metadata": {},
   "source": [
    "* _HOMBRES_"
   ]
  },
  {
   "cell_type": "code",
   "execution_count": 89,
   "metadata": {},
   "outputs": [
    {
     "data": {
      "text/html": [
       "<div>\n",
       "<style scoped>\n",
       "    .dataframe tbody tr th:only-of-type {\n",
       "        vertical-align: middle;\n",
       "    }\n",
       "\n",
       "    .dataframe tbody tr th {\n",
       "        vertical-align: top;\n",
       "    }\n",
       "\n",
       "    .dataframe thead th {\n",
       "        text-align: right;\n",
       "    }\n",
       "</style>\n",
       "<table border=\"1\" class=\"dataframe\">\n",
       "  <thead>\n",
       "    <tr style=\"text-align: right;\">\n",
       "      <th></th>\n",
       "      <th>Cve_Mun</th>\n",
       "      <th>Nom_mun</th>\n",
       "      <th>Nom_loc</th>\n",
       "      <th>Lat_Decimal</th>\n",
       "      <th>Lon_Decimal</th>\n",
       "      <th>Cases</th>\n",
       "    </tr>\n",
       "  </thead>\n",
       "  <tbody>\n",
       "    <tr>\n",
       "      <th>0</th>\n",
       "      <td>1</td>\n",
       "      <td>Acatlán</td>\n",
       "      <td>Acatlán</td>\n",
       "      <td>20.145903</td>\n",
       "      <td>-98.438372</td>\n",
       "      <td>27</td>\n",
       "    </tr>\n",
       "    <tr>\n",
       "      <th>1</th>\n",
       "      <td>2</td>\n",
       "      <td>Acaxochitlán</td>\n",
       "      <td>Acaxochitlán</td>\n",
       "      <td>20.158693</td>\n",
       "      <td>-98.203244</td>\n",
       "      <td>45</td>\n",
       "    </tr>\n",
       "    <tr>\n",
       "      <th>2</th>\n",
       "      <td>3</td>\n",
       "      <td>Actopan</td>\n",
       "      <td>Actopan</td>\n",
       "      <td>20.269086</td>\n",
       "      <td>-98.942901</td>\n",
       "      <td>138</td>\n",
       "    </tr>\n",
       "    <tr>\n",
       "      <th>3</th>\n",
       "      <td>4</td>\n",
       "      <td>Agua Blanca de Iturbide</td>\n",
       "      <td>Agua Blanca de Iturbide</td>\n",
       "      <td>20.349504</td>\n",
       "      <td>-98.356386</td>\n",
       "      <td>9</td>\n",
       "    </tr>\n",
       "    <tr>\n",
       "      <th>4</th>\n",
       "      <td>5</td>\n",
       "      <td>Ajacuba</td>\n",
       "      <td>Ajacuba</td>\n",
       "      <td>20.092525</td>\n",
       "      <td>-99.122133</td>\n",
       "      <td>42</td>\n",
       "    </tr>\n",
       "  </tbody>\n",
       "</table>\n",
       "</div>"
      ],
      "text/plain": [
       "   Cve_Mun                  Nom_mun                  Nom_loc  Lat_Decimal  \\\n",
       "0        1                  Acatlán                  Acatlán    20.145903   \n",
       "1        2             Acaxochitlán             Acaxochitlán    20.158693   \n",
       "2        3                  Actopan                  Actopan    20.269086   \n",
       "3        4  Agua Blanca de Iturbide  Agua Blanca de Iturbide    20.349504   \n",
       "4        5                  Ajacuba                  Ajacuba    20.092525   \n",
       "\n",
       "   Lon_Decimal  Cases  \n",
       "0   -98.438372     27  \n",
       "1   -98.203244     45  \n",
       "2   -98.942901    138  \n",
       "3   -98.356386      9  \n",
       "4   -99.122133     42  "
      ]
     },
     "execution_count": 89,
     "metadata": {},
     "output_type": "execute_result"
    }
   ],
   "source": [
    "queryframeHombres = pd.read_sql(\"\"\"\n",
    "            SELECT h.Cve_Mun, h.Nom_mun,h.Nom_loc,h.Lat_Decimal,h.Lon_Decimal, COUNT(c.MUNICIPIO_RES) AS Cases\n",
    "              FROM hidalgo_municipios h INNER JOIN covid07122020 c\n",
    "              ON h.Cve_Mun = c.MUNICIPIO_RES WHERE c.SEXO ='2'\n",
    "              GROUP BY h.Nom_mun;\n",
    "            \"\"\", con = mydb)\n",
    "\n",
    "# Return the first five rows\n",
    "queryframeHombres.head()\n"
   ]
  },
  {
   "cell_type": "code",
   "execution_count": 91,
   "metadata": {},
   "outputs": [],
   "source": [
    "queryframeHombres.to_csv('C:/Users/almej/Desktop/Hombres.csv')"
   ]
  },
  {
   "cell_type": "markdown",
   "metadata": {},
   "source": [
    "* VISUALIZING THE DATAFRAME"
   ]
  }
 ],
 "metadata": {
  "kernelspec": {
   "display_name": "Python 3",
   "language": "python",
   "name": "python3"
  },
  "language_info": {
   "codemirror_mode": {
    "name": "ipython",
    "version": 3
   },
   "file_extension": ".py",
   "mimetype": "text/x-python",
   "name": "python",
   "nbconvert_exporter": "python",
   "pygments_lexer": "ipython3",
   "version": "3.7.0"
  }
 },
 "nbformat": 4,
 "nbformat_minor": 4
}
